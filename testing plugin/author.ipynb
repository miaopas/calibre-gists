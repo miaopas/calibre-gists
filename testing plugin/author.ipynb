{
 "cells": [
  {
   "cell_type": "code",
   "execution_count": 5,
   "metadata": {},
   "outputs": [],
   "source": [
    "from urllib.request import Request, urlopen\n",
    "from bs4 import BeautifulSoup\n",
    "from lxml import etree\n",
    "def get_header():\n",
    "    import random\n",
    "    user_agent_list = [\n",
    "        'Mozilla/5.0 (Windows NT 6.1; WOW64) AppleWebKit/537.36 (KHTML, like Gecko) Chrome/39.0.2171.95',\n",
    "        'Safari/537.36 OPR/26.0.1656.60',\n",
    "        'Opera/8.0 (Windows NT 5.1; U; en)',\n",
    "        'Mozilla/5.0 (Windows NT 5.1; U; en; rv:1.8.1) Gecko/20061208 Firefox/2.0.0 Opera 9.50',\n",
    "        'Mozilla/5.0 (Windows NT 6.1; WOW64; rv:34.0) Gecko/20100101 Firefox/34.0',\n",
    "        'Mozilla/5.0 (X11; U; Linux x86_64; zh-CN; rv:1.9.2.10) Gecko/20100922 Ubuntu/10.10 '\n",
    "        '(maverick) Firefox/3.6.10',\n",
    "        'Mozilla/5.0 (Windows NT 6.1; WOW64) AppleWebKit/537.36 (KHTML, like Gecko) '\n",
    "        'Chrome/39.0.2171.71 Safari/537.36',\n",
    "        'Mozilla/5.0 (X11; Linux x86_64) AppleWebKit/537.11 '\n",
    "        '(KHTML, like Gecko) Chrome/23.0.1271.64 Safari/537.11',\n",
    "        'Mozilla/5.0 (Windows NT 10.0; Win64; x64) AppleWebKit/537.36 (KHTML, like Gecko) Chrome/80.0.3987.87 Safari/537.36'\n",
    "    ]\n",
    "    UserAgent = random.choice(user_agent_list)\n",
    "    header = {'User-Agent': UserAgent}\n",
    "    return header"
   ]
  },
  {
   "cell_type": "code",
   "execution_count": 6,
   "metadata": {},
   "outputs": [],
   "source": [
    "asin = ('B01NAI0BJQ', 'B00DW6IAWY','B081DG8RSC', 'B09XM8PS4V')\n",
    "\n",
    "url = f'https://www.amazon.co.jp/gp/product/{asin[3]}'\n",
    "\n",
    "\n",
    "def get_html_page(url):\n",
    "    req = Request(url, headers=get_header())\n",
    "    html_page = urlopen(req)\n",
    "    htmlparser = etree.HTMLParser()\n",
    "    tree = etree.parse(html_page, htmlparser)\n",
    "    for a in tree.xpath('//a[@href]'):\n",
    "        if ('black-curtain-redirect.html' in a.get('href')) or ('/black-curtain/save-eligibility/black-curtain' in a.get('href')):\n",
    "            url = a.get('href')\n",
    "            if url:\n",
    "                if url.startswith('/'):\n",
    "                    url = 'https://amazon.co.jp' + a.get('href')\n",
    "                print(f'Black curtain found, new url {url}')\n",
    "                return get_html_page(url)\n",
    "    return html_page"
   ]
  },
  {
   "cell_type": "code",
   "execution_count": 7,
   "metadata": {},
   "outputs": [
    {
     "name": "stdout",
     "output_type": "stream",
     "text": [
      "Black curtain found, new url https://amazon.co.jp/black-curtain/save-eligibility/black-curtain?returnUrl=%2Fdp%2FB09XM8PS4V\n",
      "Black curtain found, new url https://amazon.co.jp/black-curtain/save-eligibility/black-curtain?returnUrl=%2Fdp%2FB09XM8PS4V\n",
      "Black curtain found, new url https://amazon.co.jp/black-curtain/save-eligibility/black-curtain?returnUrl=%2Fdp%2FB09XM8PS4V\n"
     ]
    },
    {
     "ename": "KeyboardInterrupt",
     "evalue": "",
     "output_type": "error",
     "traceback": [
      "\u001b[0;31m---------------------------------------------------------------------------\u001b[0m",
      "\u001b[0;31mKeyboardInterrupt\u001b[0m                         Traceback (most recent call last)",
      "\u001b[1;32m/home/haruka/Calibre/MetadataDownload Test/author.ipynb Cell 3'\u001b[0m in \u001b[0;36m<cell line: 1>\u001b[0;34m()\u001b[0m\n\u001b[0;32m----> <a href='vscode-notebook-cell:/home/haruka/Calibre/MetadataDownload%20Test/author.ipynb#ch0000023?line=0'>1</a>\u001b[0m html_page \u001b[39m=\u001b[39m get_html_page(url)\n",
      "\u001b[1;32m/home/haruka/Calibre/MetadataDownload Test/author.ipynb Cell 2'\u001b[0m in \u001b[0;36mget_html_page\u001b[0;34m(url)\u001b[0m\n\u001b[1;32m     <a href='vscode-notebook-cell:/home/haruka/Calibre/MetadataDownload%20Test/author.ipynb#ch0000001?line=15'>16</a>\u001b[0m                 url \u001b[39m=\u001b[39m \u001b[39m'\u001b[39m\u001b[39mhttps://amazon.co.jp\u001b[39m\u001b[39m'\u001b[39m \u001b[39m+\u001b[39m a\u001b[39m.\u001b[39mget(\u001b[39m'\u001b[39m\u001b[39mhref\u001b[39m\u001b[39m'\u001b[39m)\n\u001b[1;32m     <a href='vscode-notebook-cell:/home/haruka/Calibre/MetadataDownload%20Test/author.ipynb#ch0000001?line=16'>17</a>\u001b[0m             \u001b[39mprint\u001b[39m(\u001b[39mf\u001b[39m\u001b[39m'\u001b[39m\u001b[39mBlack curtain found, new url \u001b[39m\u001b[39m{\u001b[39;00murl\u001b[39m}\u001b[39;00m\u001b[39m'\u001b[39m)\n\u001b[0;32m---> <a href='vscode-notebook-cell:/home/haruka/Calibre/MetadataDownload%20Test/author.ipynb#ch0000001?line=17'>18</a>\u001b[0m             \u001b[39mreturn\u001b[39;00m get_html_page(url)\n\u001b[1;32m     <a href='vscode-notebook-cell:/home/haruka/Calibre/MetadataDownload%20Test/author.ipynb#ch0000001?line=18'>19</a>\u001b[0m \u001b[39mreturn\u001b[39;00m html_page\n",
      "\u001b[1;32m/home/haruka/Calibre/MetadataDownload Test/author.ipynb Cell 2'\u001b[0m in \u001b[0;36mget_html_page\u001b[0;34m(url)\u001b[0m\n\u001b[1;32m     <a href='vscode-notebook-cell:/home/haruka/Calibre/MetadataDownload%20Test/author.ipynb#ch0000001?line=15'>16</a>\u001b[0m                 url \u001b[39m=\u001b[39m \u001b[39m'\u001b[39m\u001b[39mhttps://amazon.co.jp\u001b[39m\u001b[39m'\u001b[39m \u001b[39m+\u001b[39m a\u001b[39m.\u001b[39mget(\u001b[39m'\u001b[39m\u001b[39mhref\u001b[39m\u001b[39m'\u001b[39m)\n\u001b[1;32m     <a href='vscode-notebook-cell:/home/haruka/Calibre/MetadataDownload%20Test/author.ipynb#ch0000001?line=16'>17</a>\u001b[0m             \u001b[39mprint\u001b[39m(\u001b[39mf\u001b[39m\u001b[39m'\u001b[39m\u001b[39mBlack curtain found, new url \u001b[39m\u001b[39m{\u001b[39;00murl\u001b[39m}\u001b[39;00m\u001b[39m'\u001b[39m)\n\u001b[0;32m---> <a href='vscode-notebook-cell:/home/haruka/Calibre/MetadataDownload%20Test/author.ipynb#ch0000001?line=17'>18</a>\u001b[0m             \u001b[39mreturn\u001b[39;00m get_html_page(url)\n\u001b[1;32m     <a href='vscode-notebook-cell:/home/haruka/Calibre/MetadataDownload%20Test/author.ipynb#ch0000001?line=18'>19</a>\u001b[0m \u001b[39mreturn\u001b[39;00m html_page\n",
      "\u001b[1;32m/home/haruka/Calibre/MetadataDownload Test/author.ipynb Cell 2'\u001b[0m in \u001b[0;36mget_html_page\u001b[0;34m(url)\u001b[0m\n\u001b[1;32m     <a href='vscode-notebook-cell:/home/haruka/Calibre/MetadataDownload%20Test/author.ipynb#ch0000001?line=15'>16</a>\u001b[0m                 url \u001b[39m=\u001b[39m \u001b[39m'\u001b[39m\u001b[39mhttps://amazon.co.jp\u001b[39m\u001b[39m'\u001b[39m \u001b[39m+\u001b[39m a\u001b[39m.\u001b[39mget(\u001b[39m'\u001b[39m\u001b[39mhref\u001b[39m\u001b[39m'\u001b[39m)\n\u001b[1;32m     <a href='vscode-notebook-cell:/home/haruka/Calibre/MetadataDownload%20Test/author.ipynb#ch0000001?line=16'>17</a>\u001b[0m             \u001b[39mprint\u001b[39m(\u001b[39mf\u001b[39m\u001b[39m'\u001b[39m\u001b[39mBlack curtain found, new url \u001b[39m\u001b[39m{\u001b[39;00murl\u001b[39m}\u001b[39;00m\u001b[39m'\u001b[39m)\n\u001b[0;32m---> <a href='vscode-notebook-cell:/home/haruka/Calibre/MetadataDownload%20Test/author.ipynb#ch0000001?line=17'>18</a>\u001b[0m             \u001b[39mreturn\u001b[39;00m get_html_page(url)\n\u001b[1;32m     <a href='vscode-notebook-cell:/home/haruka/Calibre/MetadataDownload%20Test/author.ipynb#ch0000001?line=18'>19</a>\u001b[0m \u001b[39mreturn\u001b[39;00m html_page\n",
      "\u001b[1;32m/home/haruka/Calibre/MetadataDownload Test/author.ipynb Cell 2'\u001b[0m in \u001b[0;36mget_html_page\u001b[0;34m(url)\u001b[0m\n\u001b[1;32m      <a href='vscode-notebook-cell:/home/haruka/Calibre/MetadataDownload%20Test/author.ipynb#ch0000001?line=5'>6</a>\u001b[0m \u001b[39mdef\u001b[39;00m \u001b[39mget_html_page\u001b[39m(url):\n\u001b[1;32m      <a href='vscode-notebook-cell:/home/haruka/Calibre/MetadataDownload%20Test/author.ipynb#ch0000001?line=6'>7</a>\u001b[0m     req \u001b[39m=\u001b[39m Request(url, headers\u001b[39m=\u001b[39mget_header())\n\u001b[0;32m----> <a href='vscode-notebook-cell:/home/haruka/Calibre/MetadataDownload%20Test/author.ipynb#ch0000001?line=7'>8</a>\u001b[0m     html_page \u001b[39m=\u001b[39m urlopen(req)\n\u001b[1;32m      <a href='vscode-notebook-cell:/home/haruka/Calibre/MetadataDownload%20Test/author.ipynb#ch0000001?line=8'>9</a>\u001b[0m     htmlparser \u001b[39m=\u001b[39m etree\u001b[39m.\u001b[39mHTMLParser()\n\u001b[1;32m     <a href='vscode-notebook-cell:/home/haruka/Calibre/MetadataDownload%20Test/author.ipynb#ch0000001?line=9'>10</a>\u001b[0m     tree \u001b[39m=\u001b[39m etree\u001b[39m.\u001b[39mparse(html_page, htmlparser)\n",
      "File \u001b[0;32m/usr/lib/python3.8/urllib/request.py:222\u001b[0m, in \u001b[0;36murlopen\u001b[0;34m(url, data, timeout, cafile, capath, cadefault, context)\u001b[0m\n\u001b[1;32m    <a href='file:///usr/lib/python3.8/urllib/request.py?line=219'>220</a>\u001b[0m \u001b[39melse\u001b[39;00m:\n\u001b[1;32m    <a href='file:///usr/lib/python3.8/urllib/request.py?line=220'>221</a>\u001b[0m     opener \u001b[39m=\u001b[39m _opener\n\u001b[0;32m--> <a href='file:///usr/lib/python3.8/urllib/request.py?line=221'>222</a>\u001b[0m \u001b[39mreturn\u001b[39;00m opener\u001b[39m.\u001b[39;49mopen(url, data, timeout)\n",
      "File \u001b[0;32m/usr/lib/python3.8/urllib/request.py:525\u001b[0m, in \u001b[0;36mOpenerDirector.open\u001b[0;34m(self, fullurl, data, timeout)\u001b[0m\n\u001b[1;32m    <a href='file:///usr/lib/python3.8/urllib/request.py?line=521'>522</a>\u001b[0m     req \u001b[39m=\u001b[39m meth(req)\n\u001b[1;32m    <a href='file:///usr/lib/python3.8/urllib/request.py?line=523'>524</a>\u001b[0m sys\u001b[39m.\u001b[39maudit(\u001b[39m'\u001b[39m\u001b[39murllib.Request\u001b[39m\u001b[39m'\u001b[39m, req\u001b[39m.\u001b[39mfull_url, req\u001b[39m.\u001b[39mdata, req\u001b[39m.\u001b[39mheaders, req\u001b[39m.\u001b[39mget_method())\n\u001b[0;32m--> <a href='file:///usr/lib/python3.8/urllib/request.py?line=524'>525</a>\u001b[0m response \u001b[39m=\u001b[39m \u001b[39mself\u001b[39;49m\u001b[39m.\u001b[39;49m_open(req, data)\n\u001b[1;32m    <a href='file:///usr/lib/python3.8/urllib/request.py?line=526'>527</a>\u001b[0m \u001b[39m# post-process response\u001b[39;00m\n\u001b[1;32m    <a href='file:///usr/lib/python3.8/urllib/request.py?line=527'>528</a>\u001b[0m meth_name \u001b[39m=\u001b[39m protocol\u001b[39m+\u001b[39m\u001b[39m\"\u001b[39m\u001b[39m_response\u001b[39m\u001b[39m\"\u001b[39m\n",
      "File \u001b[0;32m/usr/lib/python3.8/urllib/request.py:542\u001b[0m, in \u001b[0;36mOpenerDirector._open\u001b[0;34m(self, req, data)\u001b[0m\n\u001b[1;32m    <a href='file:///usr/lib/python3.8/urllib/request.py?line=538'>539</a>\u001b[0m     \u001b[39mreturn\u001b[39;00m result\n\u001b[1;32m    <a href='file:///usr/lib/python3.8/urllib/request.py?line=540'>541</a>\u001b[0m protocol \u001b[39m=\u001b[39m req\u001b[39m.\u001b[39mtype\n\u001b[0;32m--> <a href='file:///usr/lib/python3.8/urllib/request.py?line=541'>542</a>\u001b[0m result \u001b[39m=\u001b[39m \u001b[39mself\u001b[39;49m\u001b[39m.\u001b[39;49m_call_chain(\u001b[39mself\u001b[39;49m\u001b[39m.\u001b[39;49mhandle_open, protocol, protocol \u001b[39m+\u001b[39;49m\n\u001b[1;32m    <a href='file:///usr/lib/python3.8/urllib/request.py?line=542'>543</a>\u001b[0m                           \u001b[39m'\u001b[39;49m\u001b[39m_open\u001b[39;49m\u001b[39m'\u001b[39;49m, req)\n\u001b[1;32m    <a href='file:///usr/lib/python3.8/urllib/request.py?line=543'>544</a>\u001b[0m \u001b[39mif\u001b[39;00m result:\n\u001b[1;32m    <a href='file:///usr/lib/python3.8/urllib/request.py?line=544'>545</a>\u001b[0m     \u001b[39mreturn\u001b[39;00m result\n",
      "File \u001b[0;32m/usr/lib/python3.8/urllib/request.py:502\u001b[0m, in \u001b[0;36mOpenerDirector._call_chain\u001b[0;34m(self, chain, kind, meth_name, *args)\u001b[0m\n\u001b[1;32m    <a href='file:///usr/lib/python3.8/urllib/request.py?line=499'>500</a>\u001b[0m \u001b[39mfor\u001b[39;00m handler \u001b[39min\u001b[39;00m handlers:\n\u001b[1;32m    <a href='file:///usr/lib/python3.8/urllib/request.py?line=500'>501</a>\u001b[0m     func \u001b[39m=\u001b[39m \u001b[39mgetattr\u001b[39m(handler, meth_name)\n\u001b[0;32m--> <a href='file:///usr/lib/python3.8/urllib/request.py?line=501'>502</a>\u001b[0m     result \u001b[39m=\u001b[39m func(\u001b[39m*\u001b[39;49margs)\n\u001b[1;32m    <a href='file:///usr/lib/python3.8/urllib/request.py?line=502'>503</a>\u001b[0m     \u001b[39mif\u001b[39;00m result \u001b[39mis\u001b[39;00m \u001b[39mnot\u001b[39;00m \u001b[39mNone\u001b[39;00m:\n\u001b[1;32m    <a href='file:///usr/lib/python3.8/urllib/request.py?line=503'>504</a>\u001b[0m         \u001b[39mreturn\u001b[39;00m result\n",
      "File \u001b[0;32m/usr/lib/python3.8/urllib/request.py:1397\u001b[0m, in \u001b[0;36mHTTPSHandler.https_open\u001b[0;34m(self, req)\u001b[0m\n\u001b[1;32m   <a href='file:///usr/lib/python3.8/urllib/request.py?line=1395'>1396</a>\u001b[0m \u001b[39mdef\u001b[39;00m \u001b[39mhttps_open\u001b[39m(\u001b[39mself\u001b[39m, req):\n\u001b[0;32m-> <a href='file:///usr/lib/python3.8/urllib/request.py?line=1396'>1397</a>\u001b[0m     \u001b[39mreturn\u001b[39;00m \u001b[39mself\u001b[39;49m\u001b[39m.\u001b[39;49mdo_open(http\u001b[39m.\u001b[39;49mclient\u001b[39m.\u001b[39;49mHTTPSConnection, req,\n\u001b[1;32m   <a href='file:///usr/lib/python3.8/urllib/request.py?line=1397'>1398</a>\u001b[0m         context\u001b[39m=\u001b[39;49m\u001b[39mself\u001b[39;49m\u001b[39m.\u001b[39;49m_context, check_hostname\u001b[39m=\u001b[39;49m\u001b[39mself\u001b[39;49m\u001b[39m.\u001b[39;49m_check_hostname)\n",
      "File \u001b[0;32m/usr/lib/python3.8/urllib/request.py:1358\u001b[0m, in \u001b[0;36mAbstractHTTPHandler.do_open\u001b[0;34m(self, http_class, req, **http_conn_args)\u001b[0m\n\u001b[1;32m   <a href='file:///usr/lib/python3.8/urllib/request.py?line=1355'>1356</a>\u001b[0m     \u001b[39mexcept\u001b[39;00m \u001b[39mOSError\u001b[39;00m \u001b[39mas\u001b[39;00m err: \u001b[39m# timeout error\u001b[39;00m\n\u001b[1;32m   <a href='file:///usr/lib/python3.8/urllib/request.py?line=1356'>1357</a>\u001b[0m         \u001b[39mraise\u001b[39;00m URLError(err)\n\u001b[0;32m-> <a href='file:///usr/lib/python3.8/urllib/request.py?line=1357'>1358</a>\u001b[0m     r \u001b[39m=\u001b[39m h\u001b[39m.\u001b[39;49mgetresponse()\n\u001b[1;32m   <a href='file:///usr/lib/python3.8/urllib/request.py?line=1358'>1359</a>\u001b[0m \u001b[39mexcept\u001b[39;00m:\n\u001b[1;32m   <a href='file:///usr/lib/python3.8/urllib/request.py?line=1359'>1360</a>\u001b[0m     h\u001b[39m.\u001b[39mclose()\n",
      "File \u001b[0;32m/usr/lib/python3.8/http/client.py:1348\u001b[0m, in \u001b[0;36mHTTPConnection.getresponse\u001b[0;34m(self)\u001b[0m\n\u001b[1;32m   <a href='file:///usr/lib/python3.8/http/client.py?line=1345'>1346</a>\u001b[0m \u001b[39mtry\u001b[39;00m:\n\u001b[1;32m   <a href='file:///usr/lib/python3.8/http/client.py?line=1346'>1347</a>\u001b[0m     \u001b[39mtry\u001b[39;00m:\n\u001b[0;32m-> <a href='file:///usr/lib/python3.8/http/client.py?line=1347'>1348</a>\u001b[0m         response\u001b[39m.\u001b[39;49mbegin()\n\u001b[1;32m   <a href='file:///usr/lib/python3.8/http/client.py?line=1348'>1349</a>\u001b[0m     \u001b[39mexcept\u001b[39;00m \u001b[39mConnectionError\u001b[39;00m:\n\u001b[1;32m   <a href='file:///usr/lib/python3.8/http/client.py?line=1349'>1350</a>\u001b[0m         \u001b[39mself\u001b[39m\u001b[39m.\u001b[39mclose()\n",
      "File \u001b[0;32m/usr/lib/python3.8/http/client.py:316\u001b[0m, in \u001b[0;36mHTTPResponse.begin\u001b[0;34m(self)\u001b[0m\n\u001b[1;32m    <a href='file:///usr/lib/python3.8/http/client.py?line=313'>314</a>\u001b[0m \u001b[39m# read until we get a non-100 response\u001b[39;00m\n\u001b[1;32m    <a href='file:///usr/lib/python3.8/http/client.py?line=314'>315</a>\u001b[0m \u001b[39mwhile\u001b[39;00m \u001b[39mTrue\u001b[39;00m:\n\u001b[0;32m--> <a href='file:///usr/lib/python3.8/http/client.py?line=315'>316</a>\u001b[0m     version, status, reason \u001b[39m=\u001b[39m \u001b[39mself\u001b[39;49m\u001b[39m.\u001b[39;49m_read_status()\n\u001b[1;32m    <a href='file:///usr/lib/python3.8/http/client.py?line=316'>317</a>\u001b[0m     \u001b[39mif\u001b[39;00m status \u001b[39m!=\u001b[39m CONTINUE:\n\u001b[1;32m    <a href='file:///usr/lib/python3.8/http/client.py?line=317'>318</a>\u001b[0m         \u001b[39mbreak\u001b[39;00m\n",
      "File \u001b[0;32m/usr/lib/python3.8/http/client.py:277\u001b[0m, in \u001b[0;36mHTTPResponse._read_status\u001b[0;34m(self)\u001b[0m\n\u001b[1;32m    <a href='file:///usr/lib/python3.8/http/client.py?line=275'>276</a>\u001b[0m \u001b[39mdef\u001b[39;00m \u001b[39m_read_status\u001b[39m(\u001b[39mself\u001b[39m):\n\u001b[0;32m--> <a href='file:///usr/lib/python3.8/http/client.py?line=276'>277</a>\u001b[0m     line \u001b[39m=\u001b[39m \u001b[39mstr\u001b[39m(\u001b[39mself\u001b[39;49m\u001b[39m.\u001b[39;49mfp\u001b[39m.\u001b[39;49mreadline(_MAXLINE \u001b[39m+\u001b[39;49m \u001b[39m1\u001b[39;49m), \u001b[39m\"\u001b[39m\u001b[39miso-8859-1\u001b[39m\u001b[39m\"\u001b[39m)\n\u001b[1;32m    <a href='file:///usr/lib/python3.8/http/client.py?line=277'>278</a>\u001b[0m     \u001b[39mif\u001b[39;00m \u001b[39mlen\u001b[39m(line) \u001b[39m>\u001b[39m _MAXLINE:\n\u001b[1;32m    <a href='file:///usr/lib/python3.8/http/client.py?line=278'>279</a>\u001b[0m         \u001b[39mraise\u001b[39;00m LineTooLong(\u001b[39m\"\u001b[39m\u001b[39mstatus line\u001b[39m\u001b[39m\"\u001b[39m)\n",
      "File \u001b[0;32m/usr/lib/python3.8/socket.py:669\u001b[0m, in \u001b[0;36mSocketIO.readinto\u001b[0;34m(self, b)\u001b[0m\n\u001b[1;32m    <a href='file:///usr/lib/python3.8/socket.py?line=666'>667</a>\u001b[0m \u001b[39mwhile\u001b[39;00m \u001b[39mTrue\u001b[39;00m:\n\u001b[1;32m    <a href='file:///usr/lib/python3.8/socket.py?line=667'>668</a>\u001b[0m     \u001b[39mtry\u001b[39;00m:\n\u001b[0;32m--> <a href='file:///usr/lib/python3.8/socket.py?line=668'>669</a>\u001b[0m         \u001b[39mreturn\u001b[39;00m \u001b[39mself\u001b[39;49m\u001b[39m.\u001b[39;49m_sock\u001b[39m.\u001b[39;49mrecv_into(b)\n\u001b[1;32m    <a href='file:///usr/lib/python3.8/socket.py?line=669'>670</a>\u001b[0m     \u001b[39mexcept\u001b[39;00m timeout:\n\u001b[1;32m    <a href='file:///usr/lib/python3.8/socket.py?line=670'>671</a>\u001b[0m         \u001b[39mself\u001b[39m\u001b[39m.\u001b[39m_timeout_occurred \u001b[39m=\u001b[39m \u001b[39mTrue\u001b[39;00m\n",
      "File \u001b[0;32m/usr/lib/python3.8/ssl.py:1241\u001b[0m, in \u001b[0;36mSSLSocket.recv_into\u001b[0;34m(self, buffer, nbytes, flags)\u001b[0m\n\u001b[1;32m   <a href='file:///usr/lib/python3.8/ssl.py?line=1236'>1237</a>\u001b[0m     \u001b[39mif\u001b[39;00m flags \u001b[39m!=\u001b[39m \u001b[39m0\u001b[39m:\n\u001b[1;32m   <a href='file:///usr/lib/python3.8/ssl.py?line=1237'>1238</a>\u001b[0m         \u001b[39mraise\u001b[39;00m \u001b[39mValueError\u001b[39;00m(\n\u001b[1;32m   <a href='file:///usr/lib/python3.8/ssl.py?line=1238'>1239</a>\u001b[0m           \u001b[39m\"\u001b[39m\u001b[39mnon-zero flags not allowed in calls to recv_into() on \u001b[39m\u001b[39m%s\u001b[39;00m\u001b[39m\"\u001b[39m \u001b[39m%\u001b[39m\n\u001b[1;32m   <a href='file:///usr/lib/python3.8/ssl.py?line=1239'>1240</a>\u001b[0m           \u001b[39mself\u001b[39m\u001b[39m.\u001b[39m\u001b[39m__class__\u001b[39m)\n\u001b[0;32m-> <a href='file:///usr/lib/python3.8/ssl.py?line=1240'>1241</a>\u001b[0m     \u001b[39mreturn\u001b[39;00m \u001b[39mself\u001b[39;49m\u001b[39m.\u001b[39;49mread(nbytes, buffer)\n\u001b[1;32m   <a href='file:///usr/lib/python3.8/ssl.py?line=1241'>1242</a>\u001b[0m \u001b[39melse\u001b[39;00m:\n\u001b[1;32m   <a href='file:///usr/lib/python3.8/ssl.py?line=1242'>1243</a>\u001b[0m     \u001b[39mreturn\u001b[39;00m \u001b[39msuper\u001b[39m()\u001b[39m.\u001b[39mrecv_into(buffer, nbytes, flags)\n",
      "File \u001b[0;32m/usr/lib/python3.8/ssl.py:1099\u001b[0m, in \u001b[0;36mSSLSocket.read\u001b[0;34m(self, len, buffer)\u001b[0m\n\u001b[1;32m   <a href='file:///usr/lib/python3.8/ssl.py?line=1096'>1097</a>\u001b[0m \u001b[39mtry\u001b[39;00m:\n\u001b[1;32m   <a href='file:///usr/lib/python3.8/ssl.py?line=1097'>1098</a>\u001b[0m     \u001b[39mif\u001b[39;00m buffer \u001b[39mis\u001b[39;00m \u001b[39mnot\u001b[39;00m \u001b[39mNone\u001b[39;00m:\n\u001b[0;32m-> <a href='file:///usr/lib/python3.8/ssl.py?line=1098'>1099</a>\u001b[0m         \u001b[39mreturn\u001b[39;00m \u001b[39mself\u001b[39;49m\u001b[39m.\u001b[39;49m_sslobj\u001b[39m.\u001b[39;49mread(\u001b[39mlen\u001b[39;49m, buffer)\n\u001b[1;32m   <a href='file:///usr/lib/python3.8/ssl.py?line=1099'>1100</a>\u001b[0m     \u001b[39melse\u001b[39;00m:\n\u001b[1;32m   <a href='file:///usr/lib/python3.8/ssl.py?line=1100'>1101</a>\u001b[0m         \u001b[39mreturn\u001b[39;00m \u001b[39mself\u001b[39m\u001b[39m.\u001b[39m_sslobj\u001b[39m.\u001b[39mread(\u001b[39mlen\u001b[39m)\n",
      "\u001b[0;31mKeyboardInterrupt\u001b[0m: "
     ]
    }
   ],
   "source": [
    "html_page = get_html_page(url)"
   ]
  },
  {
   "cell_type": "code",
   "execution_count": 6,
   "metadata": {},
   "outputs": [
    {
     "data": {
      "text/plain": [
       "set()"
      ]
     },
     "execution_count": 6,
     "metadata": {},
     "output_type": "execute_result"
    }
   ],
   "source": [
    "req = Request(url, headers=get_header())\n",
    "html_page = urlopen(req)\n",
    "soup = BeautifulSoup(html_page, 'lxml')\n",
    "def check_filter(s):\n",
    "    FILTER = ['Amazon', '検索結果']\n",
    "    for f in FILTER:\n",
    "        if f in s:\n",
    "            return False\n",
    "    return True\n",
    "authors = set()\n",
    "for t in soup.select('.author .a-link-normal'):\n",
    "    if len(t) > 1:\n",
    "        raise Exception('Error found when getting authors')\n",
    "    author = t.contents[0]\n",
    "    if check_filter(author):\n",
    "        authors.add(author)\n",
    "authors"
   ]
  },
  {
   "cell_type": "code",
   "execution_count": null,
   "metadata": {},
   "outputs": [],
   "source": []
  }
 ],
 "metadata": {
  "interpreter": {
   "hash": "916dbcbb3f70747c44a77c7bcd40155683ae19c65e1c03b4aa3499c5328201f1"
  },
  "kernelspec": {
   "display_name": "Python 3.8.10 64-bit",
   "language": "python",
   "name": "python3"
  },
  "language_info": {
   "codemirror_mode": {
    "name": "ipython",
    "version": 3
   },
   "file_extension": ".py",
   "mimetype": "text/x-python",
   "name": "python",
   "nbconvert_exporter": "python",
   "pygments_lexer": "ipython3",
   "version": "3.8.10"
  },
  "orig_nbformat": 4
 },
 "nbformat": 4,
 "nbformat_minor": 2
}
